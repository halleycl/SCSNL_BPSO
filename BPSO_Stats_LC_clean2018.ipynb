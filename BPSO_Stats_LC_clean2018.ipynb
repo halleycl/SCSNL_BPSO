{
 "cells": [
  {
   "cell_type": "markdown",
   "metadata": {
    "collapsed": true
   },
   "source": [
    "# Set up the necessities and self-written functions"
   ]
  },
  {
   "cell_type": "code",
   "execution_count": null,
   "metadata": {
    "scrolled": true
   },
   "outputs": [],
   "source": [
    "source(\"R_functions_forJupyter.R\")"
   ]
  },
  {
   "cell_type": "markdown",
   "metadata": {},
   "source": [
    "# Reading in the Data"
   ]
  },
  {
   "cell_type": "code",
   "execution_count": null,
   "metadata": {
    "collapsed": true
   },
   "outputs": [],
   "source": [
    "data<-read.csv(\"Whiz_Memory_Full_Data_2018.csv\")\n",
    "data$pid<-as.factor(data$pid)\n",
    "data$group<-as.factor(data$group)"
   ]
  },
  {
   "cell_type": "markdown",
   "metadata": {},
   "source": [
    "# exclude children with IQ > 140, or < 85"
   ]
  },
  {
   "cell_type": "code",
   "execution_count": null,
   "metadata": {
    "collapsed": true
   },
   "outputs": [],
   "source": [
    "data_match<-data[(data$fsiq >85 & data$fsiq<140),]"
   ]
  },
  {
   "cell_type": "markdown",
   "metadata": {},
   "source": [
    "# exclude the RRIB part to create the group comparison t table"
   ]
  },
  {
   "cell_type": "code",
   "execution_count": null,
   "metadata": {},
   "outputs": [],
   "source": [
    "data_match1<-data_match[,-c(grep(\"RRIB_\",colnames(data_match)),grep(\"ADI_\",colnames(data_match)),grep(\"ADOS_\",colnames(data_match)))] \n",
    "mk_ttable(data_match1,2,6,\"BPSO_ASD_TD_pre_Match_sample_t-test.csv\",2,3,equalvar=T)"
   ]
  },
  {
   "cell_type": "markdown",
   "metadata": {},
   "source": [
    "# descriptives for two groups\n",
    "## for ASD group"
   ]
  },
  {
   "cell_type": "code",
   "execution_count": null,
   "metadata": {},
   "outputs": [],
   "source": [
    "mk_destable(data_match[data_match$group==\"ASD\",],2,6,\"BPSO\",2)"
   ]
  },
  {
   "cell_type": "markdown",
   "metadata": {},
   "source": [
    "## for TD group"
   ]
  },
  {
   "cell_type": "code",
   "execution_count": null,
   "metadata": {},
   "outputs": [],
   "source": [
    "mk_destable(data_match[data_match$group==\"TD\",-c(grep(\"RRIB_\",colnames(data_match)),\n",
    "            grep(\"ADI_\",colnames(data_match)),grep(\"ADOS_\",colnames(data_match)))],2,6,\"BPSO\",2)"
   ]
  },
  {
   "cell_type": "markdown",
   "metadata": {},
   "source": [
    "# calculate summary metrics from the raw data in BPSO"
   ]
  },
  {
   "cell_type": "markdown",
   "metadata": {},
   "source": [
    "## acc based on types (corrected)"
   ]
  },
  {
   "cell_type": "code",
   "execution_count": null,
   "metadata": {
    "collapsed": true
   },
   "outputs": [],
   "source": [
    "data_match$OldAcc<-data_match$old_given_target_count/data_match$tot_target\n",
    "data_match$Old_lure_err<-data_match$sim_given_target_count/data_match$tot_target\n",
    "data_match$Old_new_err<-data_match$new_given_target_count/data_match$tot_target\n",
    "data_match$LureAcc<-data_match$sim_given_lure_count/data_match$tot_lure\n",
    "data_match$Lure_old_err<-data_match$old_given_lure_count/data_match$tot_lure\n",
    "data_match$Lure_new_err<-data_match$new_given_lure_count/data_match$tot_lure\n",
    "data_match$NewAcc<-data_match$new_given_foil_count/data_match$tot_foil\n",
    "data_match$New_old_err<-data_match$old_given_foil_count/data_match$tot_foil\n",
    "data_match$New_lure_err<-data_match$sim_given_foil_count/data_match$tot_foil"
   ]
  },
  {
   "cell_type": "markdown",
   "metadata": {},
   "source": [
    "## traditional recognition memory: discrimination between OLD and NEW"
   ]
  },
  {
   "cell_type": "code",
   "execution_count": null,
   "metadata": {
    "collapsed": true
   },
   "outputs": [],
   "source": [
    "data_match$dprime_old_new<-(qnorm(ifelse(data_match$old_given_target_corr==0,\n",
    "                                         data_match$old_given_target_corr+0.001,data_match$old_given_target_corr-0.001))\n",
    "                            -qnorm(data_match$old_given_foil_corr+0.001))"
   ]
  },
  {
   "cell_type": "markdown",
   "metadata": {},
   "source": [
    "## new measure for pattern separation: discrimination bewteen OLD and SIM"
   ]
  },
  {
   "cell_type": "code",
   "execution_count": null,
   "metadata": {
    "collapsed": true
   },
   "outputs": [],
   "source": [
    "data_match$dprime_old_lure<-(qnorm(ifelse(data_match$old_given_target_corr==0,\n",
    "                                          data_match$old_given_target_corr+0.001,data_match$old_given_target_corr-0.001))\n",
    "                             -qnorm(data_match$old_given_lure_corr+0.001))"
   ]
  },
  {
   "cell_type": "markdown",
   "metadata": {},
   "source": [
    "## pattern separation measure (1 - p(old)) at repitition, L1-L5, new for a tuning curve"
   ]
  },
  {
   "cell_type": "code",
   "execution_count": null,
   "metadata": {
    "collapsed": true
   },
   "outputs": [],
   "source": [
    "data_match$Sep_Rep<-100-data_match$old_given_target_corr*100\n",
    "data_match$Sep_L1<-100-data_match$L1O/(data_match$L1O+data_match$L1S+data_match$L1N)*100\n",
    "data_match$Sep_L2<-100-data_match$L2O/(data_match$L2O+data_match$L2S+data_match$L2N)*100\n",
    "data_match$Sep_L3<-100-data_match$L3O/(data_match$L3O+data_match$L3S+data_match$L3N)*100\n",
    "data_match$Sep_L4<-100-data_match$L4O/(data_match$L4O+data_match$L4S+data_match$L4N)*100\n",
    "data_match$Sep_L5<-100-data_match$L5O/(data_match$L5O+data_match$L5S+data_match$L5N)*100\n",
    "data_match$Sep_New<-100-data_match$old_given_foil_corr*100"
   ]
  },
  {
   "cell_type": "markdown",
   "metadata": {},
   "source": [
    "# clustering\n",
    "## for ASD"
   ]
  },
  {
   "cell_type": "code",
   "execution_count": null,
   "metadata": {},
   "outputs": [],
   "source": [
    "require(NbClust)\n",
    "data_ASD<-with(data_match[data_match$group==\"ASD\",],cbind(Sep_Rep,Sep_L1,Sep_L2,Sep_L3,Sep_L4,Sep_L5,Sep_New))\n",
    "clust.ASD<-NbClust(data=data_ASD,distance=\"euclidean\",min.nc=2,max.nc=8,method=\"ward.D2\",index=\"alllong\")"
   ]
  },
  {
   "cell_type": "markdown",
   "metadata": {},
   "source": [
    "## for TD"
   ]
  },
  {
   "cell_type": "code",
   "execution_count": null,
   "metadata": {},
   "outputs": [],
   "source": [
    "data_TD<-with(data_match[data_match$group==\"TD\",],cbind(Sep_Rep,Sep_L1,Sep_L2,Sep_L3,Sep_L4,Sep_L5,Sep_New))\n",
    "clust.TD<-NbClust(data=data_TD,distance=\"euclidean\",min.nc=2,max.nc=8,method=\"ward.D2\",index=\"alllong\")"
   ]
  },
  {
   "cell_type": "markdown",
   "metadata": {},
   "source": [
    "## Assigning clustering membership to the data"
   ]
  },
  {
   "cell_type": "code",
   "execution_count": null,
   "metadata": {
    "collapsed": true
   },
   "outputs": [],
   "source": [
    "data_match$hclust<-as.factor(c(clust.ASD$Best.partition,clust.TD$Best.partition))\n",
    "data_match<-data_match[,c(1:5,ncol(data_match),6:(ncol(data_match)-1))]\n",
    "data_match$hclust<-as.factor(data_match$hclust)"
   ]
  },
  {
   "cell_type": "markdown",
   "metadata": {},
   "source": [
    "# create graphs to visualize the tuning curves\n",
    "## preparing the data"
   ]
  },
  {
   "cell_type": "code",
   "execution_count": null,
   "metadata": {},
   "outputs": [],
   "source": [
    "data_part<-data_match[,which(colnames(data_match) %in% c(\"pid\",\"group\",\"Sep_Rep\",\"Sep_L1\",\"Sep_L2\",\"Sep_L3\",\"Sep_L4\",\"Sep_L5\",\"Sep_New\",\"hclust\"))]\n",
    "data_part_long<-melt(data_part,id.vars=c(\"pid\",\"group\",\"hclust\"))\n",
    "data_long_sum<-summarySE(data_part_long,measurevar=\"value\",groupvar=c(\"group\",\"hclust\",\"variable\"))\n",
    "print(data_long_sum)"
   ]
  },
  {
   "cell_type": "markdown",
   "metadata": {},
   "source": [
    "## for ASD group"
   ]
  },
  {
   "cell_type": "code",
   "execution_count": null,
   "metadata": {},
   "outputs": [],
   "source": [
    "line_graph_ASD<-ggplot(data_long_sum[data_long_sum$group==\"ASD\",],aes(x=variable,y=value,group=hclust,colour=hclust)) +\n",
    " \t\t\tgeom_line() +\n",
    " \t\t\tgeom_point(size=3) +\n",
    " \t\t\tgeom_errorbar(aes(ymin=value-se,ymax=value+se),width=0.4) +\n",
    " \t\t\tscale_colour_manual(values=c(\"orangered\",\"blue\",\"green\")) +\n",
    " \t\t\tscale_x_discrete(labels=c(\"Rep\",\"L1\",\"L2\",\"L3\",\"L4\",\"L5\",\"New\")) +\n",
    " \t\t\tlabs(y = \"1 - p (OLD)\", x = \"Stimuli type\") +\n",
    " \t\t\ttheme_bw()\n",
    "\n",
    "print(line_graph_ASD)\n",
    "pdf(file=\"BPSO_ASD_subgroup_Match_sample_Criterion_report_OLD_curves.pdf\",width=8,height=8)\n",
    "print(line_graph_ASD)\n",
    "dev.off()"
   ]
  },
  {
   "cell_type": "markdown",
   "metadata": {},
   "source": [
    "## for TD group"
   ]
  },
  {
   "cell_type": "code",
   "execution_count": null,
   "metadata": {},
   "outputs": [],
   "source": [
    "line_graph_TD<-ggplot(data_long_sum[data_long_sum$group==\"TD\",],aes(x=variable,y=value,group=hclust,colour=hclust)) +\n",
    "  geom_line() +\n",
    "  geom_point(size=3) +\n",
    "  geom_errorbar(aes(ymin=value-se,ymax=value+se),width=0.4) +\n",
    "  scale_colour_manual(values=c(\"orangered\",\"blue\",\"green\")) +\n",
    "  scale_x_discrete(labels=c(\"Rep\",\"L1\",\"L2\",\"L3\",\"L4\",\"L5\",\"New\")) +\n",
    "  labs(y = \"1 - p (OLD)\", x = \"Stimuli type\") +\n",
    "  theme_bw()\n",
    "\n",
    "print(line_graph_TD)\n",
    "pdf(file=\"BPSO_TD_subgroup_Match_sample_Criterion_report_OLD_curves.pdf\",width=8,height=8)\n",
    "print(line_graph_TD)\n",
    "dev.off()"
   ]
  },
  {
   "cell_type": "markdown",
   "metadata": {},
   "source": [
    "# t-tests between ASD and TD, as well as t-tests between sub-groups\n",
    "## between ASD and TD"
   ]
  },
  {
   "cell_type": "code",
   "execution_count": null,
   "metadata": {},
   "outputs": [],
   "source": [
    "mk_ttable(data_match[,-c(grep(\"RRIB_\",colnames(data_match)),grep(\"ADI_\",colnames(data_match)),grep(\"ADOS_\",colnames(data_match)))],2,7,\"BPSO_ASD_TD_Match_sample_t-test.csv\",2,3,equalvar=T)"
   ]
  },
  {
   "cell_type": "markdown",
   "metadata": {},
   "source": [
    "## between ASD subgroup 1 vs 3"
   ]
  },
  {
   "cell_type": "code",
   "execution_count": null,
   "metadata": {},
   "outputs": [],
   "source": [
    "mk_ttable(data_match[(data_match$group==\"ASD\" & data_match$hclust!=2),],6,7,\"BPSO_ASD_subgroup1vs3_t-test_Porb_of_OLD.csv\",2,3,equalvar=T)"
   ]
  },
  {
   "cell_type": "markdown",
   "metadata": {},
   "source": [
    "## between ASD subgroup 2 vs 3"
   ]
  },
  {
   "cell_type": "code",
   "execution_count": null,
   "metadata": {},
   "outputs": [],
   "source": [
    "mk_ttable(data_match[(data_match$group==\"ASD\" & data_match$hclust!=1),],6,7,\"BPSO_ASD_subgroup2vs3_t-test_Porb_of_OLD.csv\",2,3,equalvar=T)"
   ]
  },
  {
   "cell_type": "markdown",
   "metadata": {},
   "source": [
    "## between ASD subgroup 1 vs 2"
   ]
  },
  {
   "cell_type": "code",
   "execution_count": null,
   "metadata": {},
   "outputs": [],
   "source": [
    "mk_ttable(data_match[(data_match$group==\"ASD\" & data_match$hclust!=3),],6,7,\"BPSO_ASD_subgroup1vs2_t-test_Porb_of_OLD.csv\",2,3,equalvar=T)"
   ]
  },
  {
   "cell_type": "markdown",
   "metadata": {},
   "source": [
    "## between TD subgroup 1 vs 2"
   ]
  },
  {
   "cell_type": "code",
   "execution_count": null,
   "metadata": {},
   "outputs": [],
   "source": [
    "mk_ttable(data_match[data_match$group==\"TD\",-c(grep(\"RRIB_\",colnames(data_match)),grep(\"ADI_\",colnames(data_match)),grep(\"ADOS_\",colnames(data_match)))],6,7,\"BPSO_TD_subgroup1vs2_t-test_Porb_of_OLD.csv\",2,3,equalvar=T)"
   ]
  },
  {
   "cell_type": "markdown",
   "metadata": {},
   "source": [
    "# correlations within ASD and TD, as well as within each sub-group\n",
    "## within ASD"
   ]
  },
  {
   "cell_type": "code",
   "execution_count": null,
   "metadata": {},
   "outputs": [],
   "source": [
    "mk_rtable(data_match[data_match$group==\"ASD\",],7,2,\"BPSO_ASD_match_group\")"
   ]
  },
  {
   "cell_type": "markdown",
   "metadata": {},
   "source": [
    "## within ASD Subgroup 1 (impaired)"
   ]
  },
  {
   "cell_type": "code",
   "execution_count": null,
   "metadata": {
    "collapsed": true
   },
   "outputs": [],
   "source": [
    "mk_rtable(data_match[(data_match$group==\"ASD\" & data_match$hclust==1),],7,2,\"BPSO_ASD_match_subgroup1\")"
   ]
  },
  {
   "cell_type": "markdown",
   "metadata": {},
   "source": [
    "## within ASD Subgroup 2 (weak)"
   ]
  },
  {
   "cell_type": "code",
   "execution_count": null,
   "metadata": {
    "collapsed": true
   },
   "outputs": [],
   "source": [
    "mk_rtable(data_match[(data_match$group==\"ASD\" & data_match$hclust==2),],7,2,\"BPSO_ASD_match_subgroup2\")"
   ]
  },
  {
   "cell_type": "markdown",
   "metadata": {},
   "source": [
    "## within ASD Subgroup 3 (super)"
   ]
  },
  {
   "cell_type": "code",
   "execution_count": null,
   "metadata": {
    "collapsed": true
   },
   "outputs": [],
   "source": [
    "mk_rtable(data_match[(data_match$group==\"ASD\" & data_match$hclust==3),],7,2,\"BPSO_ASD_match_subgroup3\")"
   ]
  },
  {
   "cell_type": "markdown",
   "metadata": {},
   "source": [
    "## within TD"
   ]
  },
  {
   "cell_type": "code",
   "execution_count": null,
   "metadata": {
    "collapsed": true
   },
   "outputs": [],
   "source": [
    "mk_rtable(data_match[data_match$group==\"TD\",-c(grep(\"RRIB_\",colnames(data_match)),grep(\"ADI_\",colnames(data_match)),grep(\"ADOS_\",colnames(data_match)))],7,2,\"BPSO_TD_match_group\")"
   ]
  },
  {
   "cell_type": "markdown",
   "metadata": {},
   "source": [
    "# make bar graph between ASD and TD\n",
    "## overall acc"
   ]
  },
  {
   "cell_type": "code",
   "execution_count": null,
   "metadata": {},
   "outputs": [],
   "source": [
    "data_temp<-data_match[,which(colnames(data_match) %in% c(\"pid\",\"group\",\"percent_corr\",\"OldAcc\",\"LureAcc\",\"NewAcc\"))]\n",
    "data_temp$percent_corr<-data_temp$percent_corr/100\n",
    "mk_grpbargraph(data_temp,2,3:ncol(data_temp),c(\"ASD\",\"TD\"),\"ASD_TD_Overall_Acc_comp\",0)"
   ]
  },
  {
   "cell_type": "markdown",
   "metadata": {},
   "source": [
    "## d-prime"
   ]
  },
  {
   "cell_type": "code",
   "execution_count": null,
   "metadata": {},
   "outputs": [],
   "source": [
    "data_temp<-data_match[,which(colnames(data_match) %in% c(\"pid\",\"group\",\"dprime_old_new\",\"dprime_old_lure\",\"dprime_lure_new\"))]\n",
    "mk_grpbargraph(data_temp,2,3:ncol(data_temp),c(\"ASD\",\"TD\"),\"ASD_TD_d-prime_comp\",0)"
   ]
  },
  {
   "cell_type": "markdown",
   "metadata": {},
   "source": [
    "## WM"
   ]
  },
  {
   "cell_type": "code",
   "execution_count": null,
   "metadata": {},
   "outputs": [],
   "source": [
    "data_temp<-data_match[,which(colnames(data_match) %in% c(\"pid\",\"group\",\"digit_recall\",\"backwards_digit_recall\",\"block_recall\",\"spatial_recall\"))]\n",
    "mk_grpbargraph(data_temp,2,3:ncol(data_temp),c(\"ASD\",\"TD\"),\"ASD_TD_WM_comp\",0)"
   ]
  },
  {
   "cell_type": "code",
   "execution_count": null,
   "metadata": {
    "collapsed": true
   },
   "outputs": [],
   "source": [
    "## Visualspatial Memory"
   ]
  },
  {
   "cell_type": "code",
   "execution_count": null,
   "metadata": {},
   "outputs": [],
   "source": [
    "data_temp<-data_match[,which(colnames(data_match) %in% c(\"pid\",\"group\",\"MD_Spatial_Scaled_Score\",\"MD_Content_Scaled_Score\",\"MDD_Spatial_Scaled_Score\",\"MDD_Content_Scaled_Score\"))]\n",
    "mk_grpbargraph(data_temp,2,3:ncol(data_temp),c(\"ASD\",\"TD\"),\"ASD_TD_VisuospatialWM_comp\",0)"
   ]
  },
  {
   "cell_type": "markdown",
   "metadata": {},
   "source": [
    "# make bar graph of subclusters\n",
    "## age (ASD and TD)"
   ]
  },
  {
   "cell_type": "code",
   "execution_count": null,
   "metadata": {},
   "outputs": [],
   "source": [
    "data_temp<-data_match[,which(colnames(data_match) %in% c(\"pid\",\"group\",\"hclust\",\"age\"))]\n",
    "data_temp_sum<-summarySE(data_temp,measurevar = \"age\",groupvar=c(\"group\",\"hclust\"),na.rm=T)\n",
    "bar_graph<-ggplot(data_temp_sum,aes(x=group,y=age,fill=factor(hclust))) +\n",
    "           geom_bar(position=position_dodge(), stat=\"identity\",color=\"black\", width=0.8) +               \n",
    "           geom_errorbar(aes(ymin=age-se,ymax=age+se),width=0.4,position=position_dodge(.8)) +\n",
    "           coord_cartesian(ylim=c(min(data_temp_sum$age)-max(data_temp_sum$sd)/2,max(data_temp_sum$age)+max(data_temp_sum$sd)/2)) +\n",
    "           scale_fill_manual(values=c(\"orangered\",\"blue\",\"green\")) +\n",
    "           labs(y=\"age\",x=\"group\") +\n",
    "           theme_bw()\n",
    "pdf(paste0(\"ASD_TD\",\"_\",\"age_cluster_group_comp_bargraph.pdf\"),height=5,width=5)\n",
    "plot(bar_graph)\n",
    "dev.off()\n",
    "print(bar_graph)"
   ]
  },
  {
   "cell_type": "markdown",
   "metadata": {},
   "source": [
    "## IQ Measures (ASD)"
   ]
  },
  {
   "cell_type": "code",
   "execution_count": null,
   "metadata": {},
   "outputs": [],
   "source": [
    "data_temp<-data_match[,which(colnames(data_match) %in% c(\"pid\",\"group\",\"hclust\",\"viq\",\"piq\",\"fsiq\"))]\n",
    "mk_grpbargraph(data_temp[data_temp$group==\"ASD\",],3,4:ncol(data_temp),c(\"1\",\"2\",\"3\"),\"ASD_IQ_subcluster\",0)"
   ]
  },
  {
   "cell_type": "markdown",
   "metadata": {
    "collapsed": true
   },
   "source": [
    "## IQ Meausres (TD)"
   ]
  },
  {
   "cell_type": "code",
   "execution_count": null,
   "metadata": {},
   "outputs": [],
   "source": [
    "mk_grpbargraph(data_temp[data_temp$group==\"TD\",],3,4:ncol(data_temp),c(\"1\",\"2\"),\"TD_IQ_subcluster\",0)"
   ]
  },
  {
   "cell_type": "markdown",
   "metadata": {},
   "source": [
    "## performance Acc (ASD and TD)"
   ]
  },
  {
   "cell_type": "code",
   "execution_count": null,
   "metadata": {},
   "outputs": [],
   "source": [
    "data_temp<-data_match[,which(colnames(data_match) %in% c(\"pid\",\"group\",\"hclust\",\"percent_corr\"))]\n",
    "data_temp_sum<-summarySE(data_temp,measurevar = \"percent_corr\",groupvar=c(\"group\",\"hclust\"),na.rm=T)\n",
    "bar_graph<-ggplot(data_temp_sum,aes(x=group,y=percent_corr,fill=factor(hclust))) +\n",
    "  geom_bar(position=position_dodge(), stat=\"identity\",color=\"black\", width=0.8) +               \n",
    "  geom_errorbar(aes(ymin=percent_corr-se,ymax=percent_corr+se),width=0.4,position=position_dodge(.8)) +\n",
    "  coord_cartesian(ylim=c(min(data_temp_sum$percent_corr)-max(data_temp_sum$sd)/2,max(data_temp_sum$percent_corr)+max(data_temp_sum$sd)/2)) +\n",
    "  scale_fill_manual(values=c(\"orangered\",\"blue\",\"green\")) +\n",
    "  labs(y=\"Overall Accuracy (corrected)\",x=\"group\") +\n",
    "  theme_bw()\n",
    "pdf(paste0(\"ASD_TD\",\"_\",\"OverallCorrectedACC_cluster_group_comp_bargraph.pdf\"),height=5,width=5)\n",
    "plot(bar_graph)\n",
    "dev.off()\n",
    "plot(bar_graph)"
   ]
  },
  {
   "cell_type": "markdown",
   "metadata": {},
   "source": [
    "## dprime (ASD)"
   ]
  },
  {
   "cell_type": "code",
   "execution_count": null,
   "metadata": {},
   "outputs": [],
   "source": [
    "data_temp<-data_match[,which(colnames(data_match) %in% c(\"pid\",\"group\",\"hclust\",\"dprime_old_new\",\"dprime_old_lure\"))]\n",
    "mk_grpbargraph(data_temp[data_temp$group==\"ASD\",],3,4:ncol(data_temp),c(\"1\",\"2\",\"3\"),\"ASD_dprime1_subcluster\",0)"
   ]
  },
  {
   "cell_type": "markdown",
   "metadata": {},
   "source": [
    "## dprime (TD)"
   ]
  },
  {
   "cell_type": "code",
   "execution_count": null,
   "metadata": {},
   "outputs": [],
   "source": [
    "mk_grpbargraph(data_temp[data_temp$group==\"TD\",],3,4:ncol(data_temp),c(\"1\",\"2\"),\"TD_dprime1_subcluster\",0)"
   ]
  },
  {
   "cell_type": "markdown",
   "metadata": {},
   "source": [
    "## WM (ASD)"
   ]
  },
  {
   "cell_type": "code",
   "execution_count": null,
   "metadata": {},
   "outputs": [],
   "source": [
    "data_temp<-data_match[,which(colnames(data_match) %in% c(\"pid\",\"group\",\"hclust\",\"digit_recall\",\"backwards_digit_recall\",\"block_recall\",\"spatial_recall\"))]\n",
    "mk_grpbargraph(data_temp[data_temp$group==\"ASD\",],3,4:ncol(data_temp),c(\"1\",\"2\",\"3\"),\"ASD_WM_subcluster\",0)"
   ]
  },
  {
   "cell_type": "markdown",
   "metadata": {},
   "source": [
    "## WM (TD)"
   ]
  },
  {
   "cell_type": "code",
   "execution_count": null,
   "metadata": {},
   "outputs": [],
   "source": [
    "mk_grpbargraph(data_temp[data_temp$group==\"TD\",],3,4:ncol(data_temp),c(\"1\",\"2\"),\"TD_WM_subcluster\",0)"
   ]
  },
  {
   "cell_type": "markdown",
   "metadata": {},
   "source": [
    "## Visuospatial memory for design (NEPSY; ASD)"
   ]
  },
  {
   "cell_type": "code",
   "execution_count": null,
   "metadata": {},
   "outputs": [],
   "source": [
    "data_temp<-data_match[,which(colnames(data_match) %in% c(\"pid\",\"group\",\"hclust\",\"MD_Spatial_Scaled_Score\",\"MD_Content_Scaled_Score\",\"MDD_Spatial_Scaled_Score\",\"MDD_Content_Scaled_Score\"))]\n",
    "mk_grpbargraph(data_temp[data_temp$group==\"ASD\",],3,4:ncol(data_temp),c(\"1\",\"2\",\"3\"),\"ASD_NEPSY_MD_subcluster\",0)"
   ]
  },
  {
   "cell_type": "markdown",
   "metadata": {},
   "source": [
    "## Visuospatial memory for design (NEPSY; TD)"
   ]
  },
  {
   "cell_type": "code",
   "execution_count": null,
   "metadata": {},
   "outputs": [],
   "source": [
    "mk_grpbargraph(data_temp[data_temp$group==\"TD\",],3,4:ncol(data_temp),c(\"1\",\"2\"),\"TD_NEPSY_MD_subcluster\",0)"
   ]
  },
  {
   "cell_type": "markdown",
   "metadata": {},
   "source": [
    "## Memory for design and faces (NEPSY; ASD)"
   ]
  },
  {
   "cell_type": "code",
   "execution_count": null,
   "metadata": {},
   "outputs": [],
   "source": [
    "data_temp<-data_match[,which(colnames(data_match) %in% c(\"pid\",\"group\",\"hclust\",\"MD_Scaled_Score\",\"MDD_Total_Scaled_Score\",\"MF_Scaled_Score\",\"MFD_Scaled_Score\"))]\n",
    "mk_grpbargraph(data_temp[data_temp$group==\"ASD\",],3,4:ncol(data_temp),c(\"1\",\"2\",\"3\"),\"ASD_NEPSY_MDF_total_subcluster\",0)"
   ]
  },
  {
   "cell_type": "markdown",
   "metadata": {},
   "source": [
    "## Memory for design and faces (NEPSY; TD)"
   ]
  },
  {
   "cell_type": "code",
   "execution_count": null,
   "metadata": {},
   "outputs": [],
   "source": [
    "mk_grpbargraph(data_temp[data_temp$group==\"TD\",],3,4:ncol(data_temp),c(\"1\",\"2\"),\"TD_NEPSY_MDF_total_subcluster\",0)"
   ]
  },
  {
   "cell_type": "code",
   "execution_count": null,
   "metadata": {
    "collapsed": true
   },
   "outputs": [],
   "source": [
    "## ASD symptom measures"
   ]
  },
  {
   "cell_type": "markdown",
   "metadata": {},
   "source": [
    "## RRIB"
   ]
  },
  {
   "cell_type": "code",
   "execution_count": null,
   "metadata": {},
   "outputs": [],
   "source": [
    "data_temp<-data_match[,c(which(colnames(data_match) %in% c(\"pid\",\"group\",\"hclust\")),grep(\"RRIB_\",colnames(data_match)))]\n",
    "mk_grpbargraph(data_temp[data_temp$group==\"ASD\",],3,4:ncol(data_temp),c(\"1\",\"2\",\"3\"),\"ASD_RRIB_subcluster\",0)"
   ]
  },
  {
   "cell_type": "markdown",
   "metadata": {},
   "source": [
    "## ADI"
   ]
  },
  {
   "cell_type": "code",
   "execution_count": null,
   "metadata": {},
   "outputs": [],
   "source": [
    "data_temp<-data_match[,c(which(colnames(data_match) %in% c(\"pid\",\"group\",\"hclust\")),grep(\"ADI_\",colnames(data_match)))]\n",
    "mk_grpbargraph(data_temp[data_temp$group==\"ASD\",],3,4:ncol(data_temp),c(\"1\",\"2\",\"3\"),\"ASD_ADI_subcluster\",0)"
   ]
  },
  {
   "cell_type": "markdown",
   "metadata": {},
   "source": [
    "## ADOS"
   ]
  },
  {
   "cell_type": "code",
   "execution_count": null,
   "metadata": {},
   "outputs": [],
   "source": [
    "data_temp<-data_match[,c(which(colnames(data_match) %in% c(\"pid\",\"group\",\"hclust\")),grep(\"ADOS_\",colnames(data_match)))]\n",
    "mk_grpbargraph(data_temp[data_temp$group==\"ASD\",],3,4:ncol(data_temp),c(\"1\",\"2\",\"3\"),\"ASD_ADOS_subcluster\",0)"
   ]
  },
  {
   "cell_type": "code",
   "execution_count": null,
   "metadata": {
    "collapsed": true
   },
   "outputs": [],
   "source": []
  }
 ],
 "metadata": {
  "kernelspec": {
   "display_name": "R",
   "language": "R",
   "name": "ir"
  },
  "language_info": {
   "codemirror_mode": "r",
   "file_extension": ".r",
   "mimetype": "text/x-r-source",
   "name": "R",
   "pygments_lexer": "r",
   "version": "3.4.1"
  }
 },
 "nbformat": 4,
 "nbformat_minor": 2
}
